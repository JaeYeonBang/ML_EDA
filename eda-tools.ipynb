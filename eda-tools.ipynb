{
 "cells": [
  {
   "cell_type": "code",
   "execution_count": 1,
   "id": "6a366993",
   "metadata": {
    "_cell_guid": "b1076dfc-b9ad-4769-8c92-a6c4dae69d19",
    "_uuid": "8f2839f25d086af736a60e9eeb907d3b93b6e0e5",
    "execution": {
     "iopub.execute_input": "2022-03-08T14:57:56.652766Z",
     "iopub.status.busy": "2022-03-08T14:57:56.652136Z",
     "iopub.status.idle": "2022-03-08T14:57:56.655798Z",
     "shell.execute_reply": "2022-03-08T14:57:56.656273Z"
    },
    "papermill": {
     "duration": 0.024145,
     "end_time": "2022-03-08T14:57:56.656571",
     "exception": false,
     "start_time": "2022-03-08T14:57:56.632426",
     "status": "completed"
    },
    "tags": []
   },
   "outputs": [],
   "source": [
    "# This Python 3 environment comes with many helpful analytics libraries installed\n",
    "# It is defined by the kaggle/python Docker image: https://github.com/kaggle/docker-python\n",
    "# For example, here's several helpful packages to load\n",
    "\n",
    "import numpy as np # linear algebra\n",
    "import pandas as pd # data processing, CSV file I/O (e.g. pd.read_csv)\n",
    "\n",
    "# Input data files are available in the read-only \"../input/\" directory\n",
    "# For example, running this (by clicking run or pressing Shift+Enter) will list all files under the input directory\n",
    "\n",
    "import os\n",
    "for dirname, _, filenames in os.walk('/kaggle/input'):\n",
    "    for filename in filenames:\n",
    "        print(os.path.join(dirname, filename))\n",
    "\n",
    "# You can write up to 20GB to the current directory (/kaggle/working/) that gets preserved as output when you create a version using \"Save & Run All\" \n",
    "# You can also write temporary files to /kaggle/temp/, but they won't be saved outside of the current session"
   ]
  },
  {
   "cell_type": "code",
   "execution_count": 2,
   "id": "e1f3201e",
   "metadata": {
    "execution": {
     "iopub.execute_input": "2022-03-08T14:57:56.674971Z",
     "iopub.status.busy": "2022-03-08T14:57:56.674301Z",
     "iopub.status.idle": "2022-03-08T14:57:57.658424Z",
     "shell.execute_reply": "2022-03-08T14:57:57.657817Z",
     "shell.execute_reply.started": "2022-03-08T14:44:57.630558Z"
    },
    "papermill": {
     "duration": 0.993828,
     "end_time": "2022-03-08T14:57:57.658567",
     "exception": false,
     "start_time": "2022-03-08T14:57:56.664739",
     "status": "completed"
    },
    "tags": []
   },
   "outputs": [],
   "source": [
    "import numpy as np \n",
    "import pandas as pd \n",
    "import matplotlib.pyplot as plt\n",
    "import seaborn as sns\n",
    "import math"
   ]
  },
  {
   "cell_type": "markdown",
   "id": "120d231b",
   "metadata": {
    "papermill": {
     "duration": 0.006861,
     "end_time": "2022-03-08T14:57:57.672733",
     "exception": false,
     "start_time": "2022-03-08T14:57:57.665872",
     "status": "completed"
    },
    "tags": []
   },
   "source": [
    "## KDE, distribution\n",
    "\n",
    "### show distribution of counts of each features"
   ]
  },
  {
   "cell_type": "code",
   "execution_count": 3,
   "id": "233edfb3",
   "metadata": {
    "execution": {
     "iopub.execute_input": "2022-03-08T14:57:57.694261Z",
     "iopub.status.busy": "2022-03-08T14:57:57.693467Z",
     "iopub.status.idle": "2022-03-08T14:57:57.695651Z",
     "shell.execute_reply": "2022-03-08T14:57:57.696045Z"
    },
    "papermill": {
     "duration": 0.016111,
     "end_time": "2022-03-08T14:57:57.696209",
     "exception": false,
     "start_time": "2022-03-08T14:57:57.680098",
     "status": "completed"
    },
    "tags": []
   },
   "outputs": [],
   "source": [
    "## Show numeric distribution\n",
    "\n",
    "def numeric_kde_x_distribution_graph (data = None, FEATURES_NAME = None, row = 0, col = 0, figsize = (18, 18)):\n",
    "\n",
    "    fig, ax = plt.subplots(row,col, figsize = figsize)\n",
    "    for i, feature in enumerate( FEATURES_NAME):\n",
    "        sns.kdeplot(data = data[feature], ax = ax[math.floor(i/col), i%col]).set_title(f'{feature} distribution')\n",
    "    fig.show()"
   ]
  },
  {
   "cell_type": "code",
   "execution_count": 4,
   "id": "486620d5",
   "metadata": {
    "execution": {
     "iopub.execute_input": "2022-03-08T14:57:57.717069Z",
     "iopub.status.busy": "2022-03-08T14:57:57.716482Z",
     "iopub.status.idle": "2022-03-08T14:57:57.719057Z",
     "shell.execute_reply": "2022-03-08T14:57:57.718600Z"
    },
    "papermill": {
     "duration": 0.015814,
     "end_time": "2022-03-08T14:57:57.719200",
     "exception": false,
     "start_time": "2022-03-08T14:57:57.703386",
     "status": "completed"
    },
    "tags": []
   },
   "outputs": [],
   "source": [
    "def numeric_kde_x_y_regression_plots (data = None, FEATURES_NAME = None, target = None, row = 0, col = 0, figsize = (18, 18), ):\n",
    "\n",
    "    fig, ax = plt.subplots(row,col, figsize = figsize)\n",
    "    for i, feature in enumerate( FEATURES_NAME):\n",
    "        sns.regplot(x = feature, y = target ,data = data, ax = ax[math.floor(i/col), i%col]).set_title(f'{feature} distribution')\n",
    "    fig.show()"
   ]
  },
  {
   "cell_type": "markdown",
   "id": "2391aebe",
   "metadata": {
    "papermill": {
     "duration": 0.006995,
     "end_time": "2022-03-08T14:57:57.733510",
     "exception": false,
     "start_time": "2022-03-08T14:57:57.726515",
     "status": "completed"
    },
    "tags": []
   },
   "source": [
    "## Countplot \n",
    "\n",
    "### show distribution of counts of each features"
   ]
  },
  {
   "cell_type": "code",
   "execution_count": 5,
   "id": "c1b1813d",
   "metadata": {
    "execution": {
     "iopub.execute_input": "2022-03-08T14:57:57.754941Z",
     "iopub.status.busy": "2022-03-08T14:57:57.754229Z",
     "iopub.status.idle": "2022-03-08T14:57:57.756753Z",
     "shell.execute_reply": "2022-03-08T14:57:57.757145Z"
    },
    "papermill": {
     "duration": 0.016497,
     "end_time": "2022-03-08T14:57:57.757310",
     "exception": false,
     "start_time": "2022-03-08T14:57:57.740813",
     "status": "completed"
    },
    "tags": []
   },
   "outputs": [],
   "source": [
    "def categorical_counts_distribution_graph (data = None, FEATURES_NAME = None, row = 0, col = 0, figsize = (18, 18)):\n",
    "\n",
    "    fig, ax = plt.subplots(row,col, figsize = figsize)\n",
    "    for i, feature in enumerate( FEATURES_NAME):\n",
    "        sns.countplot(x = feature ,data = data, \\\n",
    "                      ax = ax[math.floor(i/col), i%col]).set_title(f'{feature} distribution')\n",
    "    fig.show()"
   ]
  },
  {
   "cell_type": "code",
   "execution_count": null,
   "id": "07858ad1",
   "metadata": {
    "papermill": {
     "duration": 0.007165,
     "end_time": "2022-03-08T14:57:57.771982",
     "exception": false,
     "start_time": "2022-03-08T14:57:57.764817",
     "status": "completed"
    },
    "tags": []
   },
   "outputs": [],
   "source": []
  },
  {
   "cell_type": "markdown",
   "id": "76f2e745",
   "metadata": {
    "papermill": {
     "duration": 0.006999,
     "end_time": "2022-03-08T14:57:57.786347",
     "exception": false,
     "start_time": "2022-03-08T14:57:57.779348",
     "status": "completed"
    },
    "tags": []
   },
   "source": [
    "## CORRelation Heatmap"
   ]
  },
  {
   "cell_type": "code",
   "execution_count": 6,
   "id": "2e37a270",
   "metadata": {
    "execution": {
     "iopub.execute_input": "2022-03-08T14:57:57.806970Z",
     "iopub.status.busy": "2022-03-08T14:57:57.806365Z",
     "iopub.status.idle": "2022-03-08T14:57:57.809976Z",
     "shell.execute_reply": "2022-03-08T14:57:57.809383Z"
    },
    "papermill": {
     "duration": 0.016442,
     "end_time": "2022-03-08T14:57:57.810117",
     "exception": false,
     "start_time": "2022-03-08T14:57:57.793675",
     "status": "completed"
    },
    "tags": []
   },
   "outputs": [],
   "source": [
    "def show_corr_heatmap(data , figsize = (10,10)) : \n",
    "    plt.figure(figsize = figsize)\n",
    "    corr = data.corr()\n",
    "    sns.heatmap(corr, cmap = 'Blues')"
   ]
  }
 ],
 "metadata": {
  "kernelspec": {
   "display_name": "Python 3",
   "language": "python",
   "name": "python3"
  },
  "language_info": {
   "codemirror_mode": {
    "name": "ipython",
    "version": 3
   },
   "file_extension": ".py",
   "mimetype": "text/x-python",
   "name": "python",
   "nbconvert_exporter": "python",
   "pygments_lexer": "ipython3",
   "version": "3.7.12"
  },
  "papermill": {
   "default_parameters": {},
   "duration": 10.720671,
   "end_time": "2022-03-08T14:57:58.529013",
   "environment_variables": {},
   "exception": null,
   "input_path": "__notebook__.ipynb",
   "output_path": "__notebook__.ipynb",
   "parameters": {},
   "start_time": "2022-03-08T14:57:47.808342",
   "version": "2.3.3"
  }
 },
 "nbformat": 4,
 "nbformat_minor": 5
}
